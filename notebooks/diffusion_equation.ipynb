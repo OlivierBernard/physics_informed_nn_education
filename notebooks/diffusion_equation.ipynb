{
 "cells": [
  {
   "cell_type": "code",
   "execution_count": null,
   "id": "9bd61721-1a00-4d46-9a00-e6729707cc45",
   "metadata": {
    "tags": []
   },
   "outputs": [],
   "source": [
    "import sys\n",
    "\n",
    "sys.path.insert(0, \"src/utilities/\")\n",
    "\n",
    "import functools\n",
    "\n",
    "import matplotlib.pyplot as plt\n",
    "import numpy as np\n",
    "import seaborn as sns\n",
    "import torch\n",
    "from diff_equations import cooling_law, grad\n",
    "from network import Net, NetDiscovery\n",
    "\n",
    "DEVICE = torch.device(\"cuda\" if torch.cuda.is_available() else \"cpu\")\n",
    "\n",
    "sns.set_theme()\n",
    "torch.manual_seed(42)"
   ]
  },
  {
   "cell_type": "code",
   "execution_count": null,
   "id": "500f3c03-0f17-456e-a030-388f9adbb07d",
   "metadata": {
    "tags": []
   },
   "outputs": [],
   "source": [
    "np.random.seed(10)\n",
    "\n",
    "Tenv = 25\n",
    "T0 = 100\n",
    "R = 0.005\n",
    "times = np.linspace(0, 1000, 1000)\n",
    "eq = functools.partial(cooling_law, Tenv=Tenv, T0=T0, R=R)\n",
    "temps = eq(times)\n",
    "\n",
    "# Make training data\n",
    "t = np.linspace(0, 300, 10)\n",
    "T = eq(t) + 2 * np.random.randn(10)\n",
    "\n",
    "plt.plot(times, temps)\n",
    "plt.plot(t, T, \"o\")\n",
    "plt.legend([\"Equation\", \"Training data\"])\n",
    "plt.ylabel(\"Temperature (C)\")\n",
    "plt.xlabel(\"Time (s)\")"
   ]
  },
  {
   "cell_type": "markdown",
   "id": "e227c7a2-b288-4da9-a0e8-bd709cf27008",
   "metadata": {},
   "source": [
    "Vanilla Networks"
   ]
  },
  {
   "cell_type": "code",
   "execution_count": null,
   "id": "9f256f03-9be5-4fab-af0f-940f3a2b07ba",
   "metadata": {
    "tags": []
   },
   "outputs": [],
   "source": [
    "net = Net(1, 1, loss2=None, epochs=20000, lr=1e-5).to(DEVICE)\n",
    "\n",
    "losses = net.fit(t, T)\n",
    "\n",
    "plt.plot(losses)\n",
    "plt.yscale(\"log\")"
   ]
  },
  {
   "cell_type": "code",
   "execution_count": null,
   "id": "76a5ffd3-6634-456e-abc1-65708c945148",
   "metadata": {
    "tags": []
   },
   "outputs": [],
   "source": [
    "def l2_reg(model: torch.nn.Module):\n",
    "    return torch.sum(sum([p.pow(2.0) for p in model.parameters()]))"
   ]
  },
  {
   "cell_type": "code",
   "execution_count": null,
   "id": "6bfd7c4c-c90d-43e0-976a-a3ea5899da98",
   "metadata": {
    "tags": []
   },
   "outputs": [],
   "source": [
    "netreg = Net(1, 1, loss2=l2_reg, epochs=20000, lr=1e-4, loss2_weight=1).to(DEVICE)\n",
    "\n",
    "losses = netreg.fit(t, T)\n",
    "\n",
    "plt.plot(losses)\n",
    "plt.yscale(\"log\")"
   ]
  },
  {
   "cell_type": "code",
   "execution_count": null,
   "id": "5b59761a-163a-48b4-9fcb-9b593c108597",
   "metadata": {
    "tags": []
   },
   "outputs": [],
   "source": [
    "predsreg = netreg.predict(times)\n",
    "\n",
    "preds = net.predict(times)\n",
    "plt.plot(times, temps, alpha=0.8)\n",
    "plt.plot(t, T, \"o\")\n",
    "plt.plot(times, preds, alpha=0.8)\n",
    "plt.plot(times, predsreg, alpha=0.8)\n",
    "\n",
    "plt.legend(labels=[\"Equation\", \"Training data\", \"Network\", \"L2 Network\"])\n",
    "plt.ylabel(\"Temperature (C)\")\n",
    "plt.xlabel(\"Time (s)\")"
   ]
  },
  {
   "cell_type": "markdown",
   "id": "8637c4d4-8783-42f7-93c4-9a0ce3820713",
   "metadata": {},
   "source": [
    "PINNs"
   ]
  },
  {
   "cell_type": "code",
   "execution_count": null,
   "id": "58cb9967-abce-4845-be10-a840930c5935",
   "metadata": {
    "tags": []
   },
   "outputs": [],
   "source": [
    "def physics_loss(model: torch.nn.Module):\n",
    "    ts = (\n",
    "        torch.linspace(\n",
    "            0,\n",
    "            1000,\n",
    "            steps=1000,\n",
    "        )\n",
    "        .view(-1, 1)\n",
    "        .requires_grad_(True)\n",
    "        .to(DEVICE)\n",
    "    )\n",
    "    temps = model(ts)\n",
    "    dT = grad(temps, ts)[0]\n",
    "    pde = R * (Tenv - temps) - dT\n",
    "\n",
    "    return torch.mean(pde**2)"
   ]
  },
  {
   "cell_type": "code",
   "execution_count": null,
   "id": "e35a60cf-894a-4e2c-8eeb-3848995c2617",
   "metadata": {
    "tags": []
   },
   "outputs": [],
   "source": [
    "net = Net(1, 1, loss2=physics_loss, epochs=30000, loss2_weight=1, lr=1e-5).to(DEVICE)\n",
    "\n",
    "losses = net.fit(t, T)\n",
    "plt.plot(losses)\n",
    "plt.yscale(\"log\")"
   ]
  },
  {
   "cell_type": "code",
   "execution_count": null,
   "id": "01ba5ef0-bc77-429f-81d9-237a85fd3293",
   "metadata": {
    "tags": []
   },
   "outputs": [],
   "source": [
    "preds = net.predict(times)\n",
    "\n",
    "plt.plot(times, temps, alpha=0.8)\n",
    "plt.plot(t, T, \"o\")\n",
    "plt.plot(times, preds, alpha=0.8)\n",
    "plt.legend(labels=[\"Equation\", \"Training data\", \"PINN\"])\n",
    "plt.ylabel(\"Temperature (C)\")\n",
    "plt.xlabel(\"Time (s)\")"
   ]
  },
  {
   "cell_type": "markdown",
   "id": "7511983e-da28-4de1-a458-aa70a2cd89b8",
   "metadata": {},
   "source": [
    "Parameter discovery"
   ]
  },
  {
   "cell_type": "code",
   "execution_count": null,
   "id": "e2732ff1-7b95-4da5-940a-5a980a6f0881",
   "metadata": {
    "tags": []
   },
   "outputs": [],
   "source": [
    "def physics_loss_discovery(model: torch.nn.Module):\n",
    "    ts = (\n",
    "        torch.linspace(\n",
    "            0,\n",
    "            1000,\n",
    "            steps=1000,\n",
    "        )\n",
    "        .view(-1, 1)\n",
    "        .requires_grad_(True)\n",
    "        .to(DEVICE)\n",
    "    )\n",
    "    temps = model(ts)\n",
    "    dT = grad(temps, ts)[0]\n",
    "    pde = model.r * (Tenv - temps) - dT\n",
    "\n",
    "    return torch.mean(pde**2)"
   ]
  },
  {
   "cell_type": "code",
   "execution_count": null,
   "id": "a066c375-7a3f-4fd2-b124-71849836f770",
   "metadata": {
    "tags": []
   },
   "outputs": [],
   "source": [
    "netdisc = NetDiscovery(\n",
    "    1, 1, loss2=physics_loss_discovery, loss2_weight=1, epochs=40000, lr=5e-6\n",
    ").to(DEVICE)\n",
    "\n",
    "losses = netdisc.fit(t, T)\n",
    "plt.plot(losses)\n",
    "plt.yscale(\"log\")"
   ]
  },
  {
   "cell_type": "code",
   "execution_count": null,
   "id": "6f8be0bf-d43c-4e5c-94df-be34a8d5759e",
   "metadata": {
    "tags": []
   },
   "outputs": [],
   "source": [
    "preds = netdisc.predict(times)\n",
    "print(netdisc.r)\n",
    "\n",
    "plt.plot(times, temps, alpha=0.8)\n",
    "plt.plot(t, T, \"o\")\n",
    "plt.plot(times, preds, alpha=0.8)\n",
    "plt.legend(labels=[\"Equation\", \"Training data\", \"discovery PINN\"])\n",
    "plt.ylabel(\"Temperature (C)\")\n",
    "plt.xlabel(\"Time (s)\")"
   ]
  },
  {
   "cell_type": "code",
   "execution_count": null,
   "id": "a285a597-d7f9-4d00-ae9b-13247c880281",
   "metadata": {},
   "outputs": [],
   "source": []
  }
 ],
 "metadata": {
  "kernelspec": {
   "display_name": "Python 3 (ipykernel)",
   "language": "python",
   "name": "python3"
  },
  "language_info": {
   "codemirror_mode": {
    "name": "ipython",
    "version": 3
   },
   "file_extension": ".py",
   "mimetype": "text/x-python",
   "name": "python",
   "nbconvert_exporter": "python",
   "pygments_lexer": "ipython3",
   "version": "3.9.16"
  }
 },
 "nbformat": 4,
 "nbformat_minor": 5
}
