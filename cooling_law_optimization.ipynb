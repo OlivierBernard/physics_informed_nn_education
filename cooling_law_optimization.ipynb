{
 "cells": [
  {
   "cell_type": "markdown",
   "metadata": {
    "tags": []
   },
   "source": [
    "Network optimization\n",
    "===\n",
    "\n",
    "***\n",
    "# <span style=\"color:brown\"> Preamble\n",
    "\n",
    "This notebook illustrates the use of neural networks to solve optimization problems without the notion of training. It focuses on designing neural networks with PyTorch without using the learning paradigm.\n",
    "    \n",
    "# <span style=\"color:brown\"> Objectives\n",
    "\n",
    "* Consolidate the knowledge of neural networks.\n",
    "* Develop an MLP (Multilayer perceptron) in PyTorch that will be used as a kernel interpolator to perform interpolation of approximation tasks.\n",
    "* Train your own U-Net (part 2 of this hands-on).\n",
    "    \n",
    "***\n",
    "    "
   ]
  },
  {
   "cell_type": "markdown",
   "metadata": {},
   "source": [
    "# <span style=\"color:brown\"> Physical problem: modeling of temperature decay over time\n",
    "\n",
    "The toy example used in this notebook concerns the estimation of the value of the temperature decay over time from a set of measured points. The physical equation we will use is based on the Newton's Law of Cooling:\n",
    "        \n",
    "\\begin{equation}\n",
    "  \\left\\{\n",
    "    \\begin{aligned}\n",
    "      &T(t) = T_{env} + \\left( T_0 - T_{env} \\right) \\cdot e^{-kt} \\\\\n",
    "      &\\frac{d T}{d t} = k \\left( T_{env}-T \\right)\n",
    "    \\end{aligned}\n",
    "  \\right.\n",
    "\\end{equation}\n",
    "    \n",
    "    \n",
    "where\n",
    "\n",
    "- $T(t)$ represents the temperature of a system at a given time. It is a function of time.\n",
    "- $T_{env}$ represents the ambient temperature of the environment surrounding the system. It is assumed to be constant.\n",
    "- $T_{0}$ represents the initial temperature of the system at time t = 0. It is also assumed to be constant.\n",
    "- $k$ is a decay constant that determines the rate of temperature decay over time. It is also assumed to be constant.\n",
    "- $t$ represents the time variable in the equation. It represents the elapsed time since the initial temperature measurement.   \n",
    "   \n",
    "<br>\n",
    "    \n",
    "Here is an illustration of the behavior of the cooling law:\n",
    "    \n",
    "<img src=\"figures/illustration_cooling_law.png\" alt=\"cooling_law\" style=\"width: 70%;\"/>\n",
    "    \n",
    "    \n",
    "***"
   ]
  },
  {
   "cell_type": "markdown",
   "metadata": {},
   "source": [
    "# <span style=\"color:brown\"> Before starting: system setting\n",
    " \n",
    "### <span style=\"color:red\"> Instruction: </span> Run the cell below to import all the packages that you will need during this session.\n",
    "\n",
    "- [numpy](www.numpy.org) is the fundamental package for scientific computing with Python.\n",
    "    \n",
    "- [torch](https://pytorch.org/) is a python geometric library for deep learning on irregular input data such as graphs, point clouds, and manifolds.\n",
    "    \n",
    "- [matplotlib](http://matplotlib.org) is a famous library to plot graphs in Python.\n",
    "\n",
    "- [functools](https://docs.python.org/3/library/functools.html#) is a python module to manage higher-order functions and operations on callable objects. Higher-order functions are functions that act on or return other functions. In general, any callable object can be treated as a function for the purposes of this module.\n",
    "    "
   ]
  },
  {
   "cell_type": "code",
   "execution_count": 8,
   "metadata": {
    "tags": []
   },
   "outputs": [
    {
     "name": "stdout",
     "output_type": "stream",
     "text": [
      "Requirement already satisfied: matplotlib in c:\\users\\ling\\.conda\\envs\\hjdl\\lib\\site-packages (3.5.2)\n",
      "Requirement already satisfied: pyparsing>=2.2.1 in c:\\users\\ling\\.conda\\envs\\hjdl\\lib\\site-packages (from matplotlib) (3.0.9)\n",
      "Requirement already satisfied: packaging>=20.0 in c:\\users\\ling\\.conda\\envs\\hjdl\\lib\\site-packages (from matplotlib) (21.3)\n",
      "Requirement already satisfied: pillow>=6.2.0 in c:\\users\\ling\\.conda\\envs\\hjdl\\lib\\site-packages (from matplotlib) (9.2.0)\n",
      "Requirement already satisfied: python-dateutil>=2.7 in c:\\users\\ling\\.conda\\envs\\hjdl\\lib\\site-packages (from matplotlib) (2.8.2)\n",
      "Requirement already satisfied: kiwisolver>=1.0.1 in c:\\users\\ling\\.conda\\envs\\hjdl\\lib\\site-packages (from matplotlib) (1.4.4)\n",
      "Requirement already satisfied: fonttools>=4.22.0 in c:\\users\\ling\\.conda\\envs\\hjdl\\lib\\site-packages (from matplotlib) (4.34.4)\n",
      "Requirement already satisfied: numpy>=1.17 in c:\\users\\ling\\.conda\\envs\\hjdl\\lib\\site-packages (from matplotlib) (1.23.1)\n",
      "Requirement already satisfied: cycler>=0.10 in c:\\users\\ling\\.conda\\envs\\hjdl\\lib\\site-packages (from matplotlib) (0.11.0)\n",
      "Requirement already satisfied: six>=1.5 in c:\\users\\ling\\.conda\\envs\\hjdl\\lib\\site-packages (from python-dateutil>=2.7->matplotlib) (1.16.0)\n",
      "Requirement already satisfied: numpy in c:\\users\\ling\\.conda\\envs\\hjdl\\lib\\site-packages (1.23.1)\n",
      "Requirement already satisfied: torch in c:\\users\\ling\\.conda\\envs\\hjdl\\lib\\site-packages (1.13.1)\n",
      "Requirement already satisfied: typing_extensions in c:\\users\\ling\\.conda\\envs\\hjdl\\lib\\site-packages (from torch) (4.3.0)\n"
     ]
    }
   ],
   "source": [
    "# Package installation\n",
    "!pip install matplotlib\n",
    "!pip install numpy\n",
    "!pip install torch\n",
    "\n",
    "from typing import Callable, Optional\n",
    "import functools\n",
    "import matplotlib.pyplot as plt\n",
    "import numpy as np\n",
    "import torch\n",
    "import torch.nn as nn\n",
    "import torch.optim as optim\n",
    "\n",
    "%matplotlib inline"
   ]
  },
  {
   "cell_type": "markdown",
   "metadata": {},
   "source": [
    "<br>\n",
    "We put the following command lines to:\n",
    "\n",
    "- use GPU if it is available, or else CPU\n",
    "- fix the random processes to have reproducible results"
   ]
  },
  {
   "cell_type": "code",
   "execution_count": 9,
   "metadata": {
    "tags": []
   },
   "outputs": [
    {
     "name": "stdout",
     "output_type": "stream",
     "text": [
      "cuda\n"
     ]
    },
    {
     "data": {
      "text/plain": [
       "<torch._C.Generator at 0x288843ebad0>"
      ]
     },
     "execution_count": 9,
     "metadata": {},
     "output_type": "execute_result"
    }
   ],
   "source": [
    "DEVICE = torch.device('cuda' if torch.cuda.is_available() else 'cpu')\n",
    "print(DEVICE)\n",
    "torch.manual_seed(42)"
   ]
  },
  {
   "cell_type": "markdown",
   "metadata": {},
   "source": [
    "***\n",
    "\n",
    "# <span style=\"color:brown\"> 1) Setting up the cooling problem and prepare the input data"
   ]
  },
  {
   "cell_type": "markdown",
   "metadata": {},
   "source": [
    "In this part of the session, you will:\n",
    "\n",
    "- Define the main variables of the cooling law.\n",
    "- Compute the equation of the cooling law for a set of predefined temperature values\n",
    "- Define fake experimental measurements of the temperature with some randomness\n",
    "\n",
    "### <span style=\"color:red\"> Instruction: </span> Run the cell below to generate different inputs."
   ]
  },
  {
   "cell_type": "code",
   "execution_count": 10,
   "metadata": {
    "tags": []
   },
   "outputs": [],
   "source": [
    "def cooling_law(time: float, Tenv: float, T0: float, k: float) -> float:\n",
    "    \"\"\"Compute the temperature at a given time using the parameters provided.\n",
    "    \n",
    "    Args:\n",
    "        time: Time variable\n",
    "        Tenv: Ambient temperature (constant).\n",
    "        T0: Initial temperature (constant).\n",
    "        k: Decay (constant).\n",
    "        \n",
    "    Returns:\n",
    "        Temperature, T at a given time.\n",
    "    \"\"\"\n",
    "    T = Tenv + (T0 - Tenv) * np.exp(-k * time)\n",
    "    return T"
   ]
  },
  {
   "cell_type": "code",
   "execution_count": 11,
   "metadata": {
    "tags": []
   },
   "outputs": [
    {
     "data": {
      "text/plain": [
       "Text(0.5, 0, 'Time (s)')"
      ]
     },
     "execution_count": 11,
     "metadata": {},
     "output_type": "execute_result"
    },
    {
     "data": {
      "image/png": "[encoded data removed]",
      "text/plain": [
       "<Figure size 432x288 with 1 Axes>"
      ]
     },
     "metadata": {
      "needs_background": "light"
     },
     "output_type": "display_data"
    }
   ],
   "source": [
    "# Seed numpy for reproducibility\n",
    "np.random.seed(10)\n",
    "\n",
    "# Define the cooling parameters\n",
    "Tenv = 25   # Ambient temperature\n",
    "T0 = 100    # Starting temperature\n",
    "k = 0.005   # Decay constant\n",
    "\n",
    "# Define the full time axis of interest \n",
    "times = np.linspace(0, 1000, 1000)\n",
    "\n",
    "# Define the corresponding cooling law \n",
    "eq = functools.partial(cooling_law, Tenv=Tenv, T0=T0, k=k)\n",
    "\n",
    "# Compute temperature values based on the pre-defined cooling law\n",
    "temperatures = eq(times)\n",
    "\n",
    "# Make measured data points with randomness\n",
    "time_samples = np.linspace(0, 300, 10)\n",
    "temperature_samples = eq(time_samples) +  2 * np.random.randn(10)\n",
    "\n",
    "# Display the generated input that characterize the problem\n",
    "plt.plot(times, temperatures)\n",
    "plt.plot(time_samples, temperature_samples, 'o')\n",
    "plt.legend(['Cooling law', 'Measured data'])\n",
    "plt.ylabel('Temperature (C)')\n",
    "plt.xlabel('Time (s)')"
   ]
  },
  {
   "cell_type": "markdown",
   "metadata": {},
   "source": [
    "***\n",
    "\n",
    "# <span style=\"color:brown\"> 2) Exploit a standard neural network as optimization tool\n",
    "    \n",
    "As presented in the introduction to this hands-on session, you will develop a Neural Network (NN) as an optimization tool. The NN consists of a multilayer perceptron (MLP) whose optimization allows the fitting of experimental measurements."
   ]
  },
  {
   "cell_type": "markdown",
   "metadata": {},
   "source": [
    "## <span style=\"color:brown\"> 1.1) Create a standard neural network\n",
    "    \n",
    "### <span style=\"color:red\"> Instruction: </span> Run the cell below to create a neural network with a MLP architecture.\n",
    "    \n",
    "**Remark:** The MLP is composed of 5 layers followed by ReLU activations."
   ]
  },
  {
   "cell_type": "code",
   "execution_count": 12,
   "metadata": {
    "tags": []
   },
   "outputs": [],
   "source": [
    "class Net(nn.Module):\n",
    "    \"\"\"Neural network with an MLP architecture.\"\"\"\n",
    "    \n",
    "    # Define the constructor class with inheritance\n",
    "    def __init__(\n",
    "        self,\n",
    "        input_dim: int,\n",
    "        output_dim: int,\n",
    "        n_units: int = 100,\n",
    "        epochs: int = 1000,\n",
    "        loss: Callable = nn.MSELoss(),\n",
    "        lr: float = 1e-3,\n",
    "        loss2: Callable = None,\n",
    "        loss2_weight: float = 0.1,\n",
    "    ) -> None:\n",
    "        \"\"\"Initialize class instance.\n",
    "        \n",
    "        Args:\n",
    "            input_dim: Input dimension of MLP.\n",
    "            output_dim: Output dimension of MLP.\n",
    "            n_units: Number of neurons per hidden layer.\n",
    "            epochs: Number of epochs.\n",
    "            loss: Reconstruction loss function.\n",
    "            lr: Learning rate.\n",
    "            loss2: Optional regularization term.\n",
    "            loss2_weight: Regularization weight.\n",
    "        \"\"\"\n",
    "        super().__init__() \n",
    "\n",
    "        # Define attributs\n",
    "        self.epochs = epochs\n",
    "        self.loss = loss\n",
    "        self.loss2 = loss2\n",
    "        self.loss2_weight = loss2_weight\n",
    "        self.lr = lr\n",
    "        self.n_units = n_units\n",
    "\n",
    "        # Define key layers which combined represents the \n",
    "        # architecture of the network.\n",
    "        # In our case, it corresponds to a MLP with 5 layers \n",
    "        # (1x100x100x100x100x1)\n",
    "        self.layers = nn.Sequential(\n",
    "            nn.Linear(input_dim, self.n_units),\n",
    "            nn.ReLU(),\n",
    "            nn.Linear(self.n_units, self.n_units),\n",
    "            nn.ReLU(),\n",
    "            nn.Linear(self.n_units, self.n_units),\n",
    "            nn.ReLU(),\n",
    "            nn.Linear(self.n_units, self.n_units),\n",
    "            nn.ReLU(),\n",
    "        )\n",
    "        self.out = nn.Linear(self.n_units, output_dim)\n",
    "\n",
    "    def np_to_th(self, x: np.ndarray) -> torch.Tensor:\n",
    "        \"\"\"Convert numpy data to torch.Tensor with the selected DEVICE (cpu or gpu).\n",
    "        \n",
    "        Args:\n",
    "            x: Numpy data.\n",
    "            \n",
    "        Returns:\n",
    "            Converted torch.Tensor data.\n",
    "        \"\"\"\n",
    "        n_samples = len(x)\n",
    "        return torch.from_numpy(x).to(torch.float).to(DEVICE).reshape(n_samples, -1)        \n",
    "        \n",
    "    def forward(self, x: torch.Tensor) -> torch.Tensor:\n",
    "        \"\"\"Forward pass.\"\"\"\n",
    "        h = self.layers(x)\n",
    "        out = self.out(h)\n",
    "        return out\n",
    "\n",
    "    # Define the optimization procedure \n",
    "    def optimize(self, X: np.ndarray, y: np.ndarray) -> list[float]:\n",
    "        \"\"\"Training loop.\n",
    "        \n",
    "        Args:\n",
    "            X: Input data.\n",
    "            y: Reference.\n",
    "        \n",
    "        Returns:\n",
    "            List of losses over epochs.\n",
    "        \"\"\"\n",
    "        # Convert numpy to torch Tensor\n",
    "        Xt = self.np_to_th(X)\n",
    "        yt = self.np_to_th(y)\n",
    "        # Define the method used during optimization\n",
    "        # optim.Adam is an optimizer define in PyTorch\n",
    "        optimizer = optim.Adam(self.parameters(), lr=self.lr)\n",
    "        # Put torch layers (batchnorm/dropout etc.) in training mode.\n",
    "        self.train()\n",
    "        losses = []\n",
    "        # Main iteration loop to optimize the MLP parameters\n",
    "        for ep in range(self.epochs):\n",
    "            # At each iteration, we need to set the computed gradient to zero\n",
    "            # since the call to the backward function will automatically compute\n",
    "            # the NN gradients\n",
    "            optimizer.zero_grad()\n",
    "            # Apply the forward pass\n",
    "            outputs = self.forward(Xt)\n",
    "            # Compute the corresponding loss value based on the predicted outputs\n",
    "            loss = self.loss(yt, outputs)\n",
    "            # Update the loss value if an additional loss is defined\n",
    "            if self.loss2:\n",
    "                loss += self.loss2_weight * self.loss2(self)\n",
    "                # loss += self.loss2_weight + self.loss2_weight * self.loss2(self)\n",
    "            # Compute the backward pass\n",
    "            # This step will compute the NN gradient thank to autograd concepts\n",
    "            loss.backward()\n",
    "            # Update the NN parameters based on the NN gradient previously comuted\n",
    "            # and the optimizer scheme (in this example adam)\n",
    "            optimizer.step()\n",
    "            # Store the value of the loss function\n",
    "            losses.append(loss.item())\n",
    "            # Display loss value each round(self.epochs/10) epochs \n",
    "            if ep % int(self.epochs / 10) == 0:\n",
    "                print(f\"Epoch {ep}/{self.epochs}, loss: {losses[-1]:.2f}\")\n",
    "        # Return the losses list at the end of the main loop\n",
    "        return losses\n",
    "\n",
    "    def predict(self, X: torch.Tensor) -> torch.Tensor:\n",
    "        \"\"\"Prediction loop.\"\"\"\n",
    "        # Put torch layers (batchnorm/dropout etc.) in evaluation mode.\n",
    "        self.eval()\n",
    "        \n",
    "        # Disable gradient flow\n",
    "        with torch.no_grad():\n",
    "            # Apply the forward pass\n",
    "            out = self.forward(self.np_to_th(X))\n",
    "        # Return the numpy prediction detached from the computation graph\n",
    "        return out.detach().cpu().numpy()\n"
   ]
  },
  {
   "cell_type": "markdown",
   "metadata": {},
   "source": [
    "## <span style=\"color:brown\"> 1.2) Optimize the NN to fit the measured data.\n",
    "    \n",
    "### <span style=\"color:red\"> Instruction: </span> Run the cell below to optimize the NN so that its outputs fit the measure data.\n",
    "    \n",
    "**Remark:** The fit is performed by minimizing the loss function at each epoch, by default the mean square error (i.e., nn.MSELoss)"
   ]
  },
  {
   "cell_type": "code",
   "execution_count": 13,
   "metadata": {
    "tags": []
   },
   "outputs": [
    {
     "name": "stdout",
     "output_type": "stream",
     "text": [
      "Epoch 0/20000, loss: 4713.88\n",
      "Epoch 2000/20000, loss: 2510.72\n",
      "Epoch 4000/20000, loss: 2154.39\n",
      "Epoch 6000/20000, loss: 762.69\n",
      "Epoch 8000/20000, loss: 97.45\n",
      "Epoch 10000/20000, loss: 2.44\n",
      "Epoch 12000/20000, loss: 0.92\n",
      "Epoch 14000/20000, loss: 0.40\n",
      "Epoch 16000/20000, loss: 0.38\n",
      "Epoch 18000/20000, loss: 0.36\n"
     ]
    },
    {
     "data": {
      "image/png": "[encoded data removed]",
      "text/plain": [
       "<Figure size 432x288 with 1 Axes>"
      ]
     },
     "metadata": {
      "needs_background": "light"
     },
     "output_type": "display_data"
    }
   ],
   "source": [
    "# Instantiate a network object from the Net class\n",
    "# The \".to(DEVICE)\" specifies the hardward system on \n",
    "# which the NN have to be optimized\n",
    "net = Net(1,1, loss2=None, epochs=20000, lr=1e-5).to(DEVICE)\n",
    "\n",
    "# Optimize the NN\n",
    "losses = net.optimize(time_samples, temperature_samples)\n",
    "\n",
    "# Display the evolution of the loss over the epoch \n",
    "# to check the good behavior of this phase, i.e., the loss must decrease\n",
    "plt.plot(losses)\n",
    "plt.yscale('log')"
   ]
  },
  {
   "cell_type": "markdown",
   "metadata": {},
   "source": [
    "## <span style=\"color:brown\"> 1.3) Run the NN after the optimization procedure to predict the temperatures at the full range time vector.\n",
    "    \n",
    "### <span style=\"color:red\"> Instruction: </span> Run the cell below to predict the temperatures at the full range time vector (outside the measured temperatures to validate the predictions of the NN)."
   ]
  },
  {
   "cell_type": "code",
   "execution_count": 16,
   "metadata": {
    "tags": []
   },
   "outputs": [
    {
     "data": {
      "text/plain": [
       "Text(0.5, 0, 'Time (s)')"
      ]
     },
     "execution_count": 16,
     "metadata": {},
     "output_type": "execute_result"
    },
    {
     "data": {
      "image/png": "[encoded data removed]",
      "text/plain": [
       "<Figure size 432x288 with 1 Axes>"
      ]
     },
     "metadata": {
      "needs_background": "light"
     },
     "output_type": "display_data"
    }
   ],
   "source": [
    "# Use the NN to predict the temperatures at the full range time axis\n",
    "temperature_predictions = net.predict(times)\n",
    "\n",
    "# Display the predicted results\n",
    "plt.plot(times, temperatures, alpha=0.8)\n",
    "plt.plot(time_samples, temperature_samples, 'o')\n",
    "plt.plot(times, temperature_predictions, alpha=0.8)\n",
    "plt.legend(labels=['Cooling law','Measured data', 'Network'])\n",
    "plt.ylabel('Temperature (C)')\n",
    "plt.xlabel('Time (s)')"
   ]
  },
  {
   "cell_type": "markdown",
   "metadata": {},
   "source": [
    "## <span style=\"color:brown\"> 2.1) Constrain the standard neural network behavior with a regularization loss\n",
    "    \n",
    "### <span style=\"color:red\"> Instruction: </span> Run the cell below to create an additional loss to regularize the parameters of the neural network.\n",
    "    \n",
    "**Remark:** The additional loss corresponds to the $L_2$ norm, i.e. $L_2=||\\theta\\||^2$ which forces the NN values to be as small as possible."
   ]
  },
  {
   "cell_type": "code",
   "execution_count": 17,
   "metadata": {
    "tags": []
   },
   "outputs": [],
   "source": [
    "def l2_reg(model: torch.nn.Module) -> torch.Tensor:\n",
    "    \"\"\"L2 regularization of the model's parameters.\n",
    "    \n",
    "    Args:\n",
    "        model: PyTorch model.\n",
    "    \n",
    "    Returns:\n",
    "        L2 norm of the model's parameters.\n",
    "    \"\"\"\n",
    "    return torch.sum(sum([p.pow(2.) for p in model.parameters()]))"
   ]
  },
  {
   "cell_type": "markdown",
   "metadata": {},
   "source": [
    "## <span style=\"color:brown\"> 2.2) Optimize the $L_2$-regularized NN to fit the measured data. \n",
    "    \n",
    "### <span style=\"color:red\"> Instruction: </span> Run the cell below to optimize the NN so that its output fit the measure data.\n",
    "    \n",
    "**Remark:** The fit is provided by minimizing the two loss functions at each epoch, i.e., nn.MSELoss + loss2_weight*loss2"
   ]
  },
  {
   "cell_type": "code",
   "execution_count": 19,
   "metadata": {
    "tags": []
   },
   "outputs": [
    {
     "name": "stdout",
     "output_type": "stream",
     "text": [
      "Epoch 0/30000, loss: 12291.20\n",
      "Epoch 3000/30000, loss: 3409.97\n",
      "Epoch 6000/30000, loss: 1669.25\n",
      "Epoch 9000/30000, loss: 1044.32\n",
      "Epoch 12000/30000, loss: 849.06\n",
      "Epoch 15000/30000, loss: 730.02\n",
      "Epoch 18000/30000, loss: 628.83\n",
      "Epoch 21000/30000, loss: 539.69\n",
      "Epoch 24000/30000, loss: 469.84\n",
      "Epoch 27000/30000, loss: 411.02\n"
     ]
    },
    {
     "data": {
      "image/png": "[encoded data removed]",
      "text/plain": [
       "<Figure size 432x288 with 1 Axes>"
      ]
     },
     "metadata": {
      "needs_background": "light"
     },
     "output_type": "display_data"
    }
   ],
   "source": [
    "# Instantiate a network object from the Net class\n",
    "# The \".to(DEVICE)\" specifies the hardward system on \n",
    "# which the NN have to be optimized\n",
    "L2net = Net(1,1, loss2=l2_reg, loss2_weight=1, epochs=30000, lr=1e-4).to(DEVICE)\n",
    "\n",
    "# Optimize the NN\n",
    "losses = L2net.optimize(time_samples, temperature_samples)\n",
    "\n",
    "# Display the evolution of the loss over the epoch \n",
    "# to check the good behavior of this phase, i.e., the loss must decrease\n",
    "plt.plot(losses)\n",
    "plt.yscale('log')"
   ]
  },
  {
   "cell_type": "markdown",
   "metadata": {},
   "source": [
    "## <span style=\"color:brown\"> 2.3) Run the $L_2$-regularized NN after the optimization procedure to predict the temperatures at the full range time vector\n",
    "    \n",
    "### <span style=\"color:red\"> Instruction: </span> Run the cell below to predict the temperatures at the full range time vector (outside the measured temperatures to validate the predictions of the NN)."
   ]
  },
  {
   "cell_type": "code",
   "execution_count": 20,
   "metadata": {
    "tags": []
   },
   "outputs": [
    {
     "data": {
      "text/plain": [
       "Text(0.5, 0, 'Time (s)')"
      ]
     },
     "execution_count": 20,
     "metadata": {},
     "output_type": "execute_result"
    },
    {
     "data": {
      "image/png": "[encoded data removed]",
      "text/plain": [
       "<Figure size 432x288 with 1 Axes>"
      ]
     },
     "metadata": {
      "needs_background": "light"
     },
     "output_type": "display_data"
    }
   ],
   "source": [
    "# Use L2-regularized NN to predict the temperatures at the full range time axis\n",
    "temperature_predictions_L2 = L2net.predict(times)\n",
    "\n",
    "# Display the predicted results\n",
    "plt.plot(times, temperatures, alpha=0.8)\n",
    "plt.plot(time_samples, temperature_samples, 'o')\n",
    "plt.plot(times, temperature_predictions, alpha=0.8)\n",
    "plt.plot(times, temperature_predictions_L2, alpha=0.8)\n",
    "plt.legend(labels=['Cooling law','Measured data', 'Network', 'L2 Network'])\n",
    "plt.ylabel('Temperature (C)')\n",
    "plt.xlabel('Time (s)')"
   ]
  },
  {
   "cell_type": "markdown",
   "metadata": {},
   "source": [
    "***\n",
    "\n",
    "# <span style=\"color:brown\"> 3) Use of Physics Informed Neural Networks (PINNs) to perform the optimization\n",
    "    \n",
    "We will now solve the optimization problem using PINNs. The key idea is to compute the derivatives of the outputs of the NN to compute an additional physical loss to make sure that the outputs respect the cooling law!\n",
    "    \n",
    "<br>\n",
    "    \n",
    "Here is an illustration of the general scheme of PINNs:\n",
    "    \n",
    "<img src=\"figures/illustration_pinn.png\" alt=\"cooling_law\" style=\"width: 100%;\"/>"
   ]
  },
  {
   "cell_type": "markdown",
   "metadata": {},
   "source": [
    "## <span style=\"color:brown\"> 3.1) Constrain the standard neural network behavior with a physics-informed loss\n",
    "    \n",
    "### <span style=\"color:red\"> Instruction: </span> Run the cell below to create an additional loss to constrain the value of the neural network to impose physical regularization on the prediction output.\n",
    "    \n",
    "**Remark:** The additional loss corresponds to the residual of physical equation"
   ]
  },
  {
   "cell_type": "code",
   "execution_count": 21,
   "metadata": {
    "tags": []
   },
   "outputs": [],
   "source": [
    "# Define the gradient function that will be applied to the output of the NN\n",
    "def grad(outputs: torch.Tensor, inputs: torch.Tensor) -> torch.Tensor:\n",
    "    \"\"\"Computes the partial derivative of an output with respect to an input.\n",
    "    \n",
    "    Args:\n",
    "        outputs: (N, 1) tensor\n",
    "        inputs: (N, D) tensor\n",
    "    \n",
    "    Returns:\n",
    "        Derivatives of outputs w.r.t. inputs.\n",
    "    \"\"\"\n",
    "    # It is essential to set create_graph to True to be able to manipulate the gradients afterward\n",
    "    return torch.autograd.grad(outputs, inputs, grad_outputs=torch.ones_like(outputs), create_graph=True)"
   ]
  },
  {
   "cell_type": "code",
   "execution_count": 22,
   "metadata": {
    "tags": []
   },
   "outputs": [],
   "source": [
    "def physics_loss(model: torch.nn.Module) -> torch.Tensor:\n",
    "    \"\"\"Compute the physical loss.\n",
    "    \n",
    "    Args:\n",
    "        model: PyTorch model.\n",
    "    \n",
    "    Returns:\n",
    "        Residual loss between the estimated and real derivatives.\n",
    "    \"\"\"\n",
    "    # Define the full time axis of interest\n",
    "    # Set requires_grad to True to be able to compute the gradients w.r.t. input\n",
    "    times_full = torch.linspace(0, 1000, steps=1000,).view(-1,1).requires_grad_(True).to(DEVICE)\n",
    "    # Compute the corresponding estimated temperature\n",
    "    temperatures_full = model(times_full)\n",
    "    # Compute the corresponding gradients\n",
    "    dT = grad(temperatures_full, times_full)[0]\n",
    "    # Compute residual loss for each temperature term \n",
    "    residual = dT - k * (Tenv - temperatures_full)\n",
    "    # Return residual loss \n",
    "    return torch.mean(residual**2)"
   ]
  },
  {
   "cell_type": "markdown",
   "metadata": {},
   "source": [
    "## <span style=\"color:brown\"> 3.2) Optimize the PINNs to fit the measured data \n",
    "    \n",
    "### <span style=\"color:red\"> Instruction: </span> Run the cell below to optimize the PINNs so that its output fit the measure data.\n",
    "    \n",
    "**Remark:** The fit is provided by minimizing the two loss functions at each epoch, i.e., nn.MSELoss + physics_loss_weight * physics_loss"
   ]
  },
  {
   "cell_type": "code",
   "execution_count": 24,
   "metadata": {
    "tags": []
   },
   "outputs": [
    {
     "name": "stdout",
     "output_type": "stream",
     "text": [
      "Epoch 0/20000, loss: 4605.28\n",
      "Epoch 2000/20000, loss: 2470.82\n",
      "Epoch 4000/20000, loss: 1785.24\n",
      "Epoch 6000/20000, loss: 186.19\n",
      "Epoch 8000/20000, loss: 4.61\n",
      "Epoch 10000/20000, loss: 2.27\n",
      "Epoch 12000/20000, loss: 1.34\n",
      "Epoch 14000/20000, loss: 1.13\n",
      "Epoch 16000/20000, loss: 0.81\n",
      "Epoch 18000/20000, loss: 0.55\n"
     ]
    },
    {
     "data": {
      "image/png": "[encoded data removed]",
      "text/plain": [
       "<Figure size 432x288 with 1 Axes>"
      ]
     },
     "metadata": {
      "needs_background": "light"
     },
     "output_type": "display_data"
    }
   ],
   "source": [
    "# Instantiate a network object from the Net class\n",
    "# The \".to(DEVICE)\" specifies the hardware system on \n",
    "# which the PINNs have to be optimized\n",
    "pinn_net = Net(1,1, loss2=physics_loss, loss2_weight=1, epochs=20000, lr=1e-5).to(DEVICE)\n",
    "\n",
    "# Optimize the PINNs\n",
    "losses = pinn_net.optimize(time_samples, temperature_samples)\n",
    "\n",
    "# Display the evolution of the loss over the epoch \n",
    "# to check the good behavior of this phase, i.e., the loss must decrease\n",
    "plt.plot(losses)\n",
    "plt.yscale('log')"
   ]
  },
  {
   "cell_type": "markdown",
   "metadata": {},
   "source": [
    "## <span style=\"color:brown\"> 3.3) Run the PINNs after the optimization procedure to predict the temperatures at the full range time vector\n",
    "    \n",
    "### <span style=\"color:red\"> Instruction: </span> Run the cell below to predict the temperatures at the full range time vector (outside the measured temperatures to validate the predictions of PINNs)."
   ]
  },
  {
   "cell_type": "code",
   "execution_count": 25,
   "metadata": {
    "tags": []
   },
   "outputs": [
    {
     "data": {
      "text/plain": [
       "Text(0.5, 0, 'Time (s)')"
      ]
     },
     "execution_count": 25,
     "metadata": {},
     "output_type": "execute_result"
    },
    {
     "data": {
      "image/png": "[encoded data removed]",
      "text/plain": [
       "<Figure size 432x288 with 1 Axes>"
      ]
     },
     "metadata": {
      "needs_background": "light"
     },
     "output_type": "display_data"
    }
   ],
   "source": [
    "# Make the PINN predicts the temperature values from the full range time axis\n",
    "temperature_predictions_pinn = pinn_net.predict(times)\n",
    "\n",
    "# Display the predicted results\n",
    "plt.plot(times, temperatures, alpha=0.8)\n",
    "plt.plot(time_samples, temperature_samples, 'o')\n",
    "plt.plot(times, temperature_predictions_pinn, alpha=0.8)\n",
    "plt.legend(labels=['Cooling law','Measured data', 'PINN'])\n",
    "plt.ylabel('Temperature (C)')\n",
    "plt.xlabel('Time (s)')"
   ]
  },
  {
   "cell_type": "markdown",
   "metadata": {
    "tags": []
   },
   "source": [
    "## <span style=\"color:brown\"> 3.4) Optimize the PINN to fit the measured data \n",
    "    \n",
    "### <span style=\"color:red\"> Instruction: </span> Run the cell below to create another PINNs that optimize the decay value, $k$.\n",
    "    \n",
    "**Remark:** The fit is provided by minimizing the two loss functions at each epoch, i.e., nn.MSELoss + physics_loss_discovery_weight * physics_loss_discovery"
   ]
  },
  {
   "cell_type": "code",
   "execution_count": 27,
   "metadata": {
    "tags": []
   },
   "outputs": [],
   "source": [
    "# Definition of the neural network class\n",
    "class NetDiscovery(Net):\n",
    "    # Define the constructor class with Net inheritance \n",
    "    def __init__(\n",
    "        self,\n",
    "        input_dim,\n",
    "        output_dim,\n",
    "        n_units=100,\n",
    "        epochs=1000,\n",
    "        loss=nn.MSELoss(),\n",
    "        lr=1e-3,\n",
    "        loss2=None,\n",
    "        loss2_weight=0.1,\n",
    "    ) -> None:\n",
    "        super().__init__(\n",
    "            input_dim, output_dim, n_units, epochs, loss, lr, loss2, loss2_weight\n",
    "        )\n",
    "\n",
    "        # Define new attribute\n",
    "        self.k = nn.Parameter(data=torch.tensor([0.]))"
   ]
  },
  {
   "cell_type": "markdown",
   "metadata": {
    "tags": []
   },
   "source": [
    "## <span style=\"color:brown\"> 3.5) Optimize the decay value, $k$ (which was a constant) during the training of PINNs.\n",
    "    \n",
    "### <span style=\"color:red\"> Instruction: </span> Run the cell below to create a physical loss that constrains the neural network with the optimized decay value estimated by the network.\n",
    "    \n",
    "**Remark:** This loss is similar to the physical loss defined in 3.1)."
   ]
  },
  {
   "cell_type": "code",
   "execution_count": 26,
   "metadata": {
    "tags": []
   },
   "outputs": [],
   "source": [
    "def physics_loss_discovery(model: torch.nn.Module) -> torch.Tensor:\n",
    "    \"\"\"Compute the physical loss with optimized decay value, k.\n",
    "    \n",
    "    Args:\n",
    "        model: PyTorch model.\n",
    "    \n",
    "    Returns:\n",
    "        Residual loss between the estimated and real derivatives.\n",
    "    \"\"\"\n",
    "    # Define the full time axis of interest \n",
    "    times_full = torch.linspace(0, 1000, steps=1000,).view(-1,1).requires_grad_(True).to(DEVICE)\n",
    "    # Compute the corresponding estimated temperature\n",
    "    temperatures_full = model(times_full)\n",
    "    # Compute the corresponding gradients\n",
    "    dT = grad(temperatures_full, times_full)[0]\n",
    "    # Compute residual loss for each temperature term \n",
    "    residual = dT - model.k * (Tenv - temperatures_full)\n",
    "    # Return residual loss \n",
    "    return torch.mean(residual**2)"
   ]
  },
  {
   "cell_type": "markdown",
   "metadata": {},
   "source": [
    "### <span style=\"color:red\"> Instruction: </span> Run the cell below to train the PINNs to find the optimal decay value with the loss defined above."
   ]
  },
  {
   "cell_type": "code",
   "execution_count": 28,
   "metadata": {
    "tags": []
   },
   "outputs": [
    {
     "name": "stdout",
     "output_type": "stream",
     "text": [
      "Epoch 0/40000, loss: 4477.32\n",
      "Epoch 4000/40000, loss: 2508.27\n",
      "Epoch 8000/40000, loss: 2147.10\n",
      "Epoch 12000/40000, loss: 387.16\n",
      "Epoch 16000/40000, loss: 2.93\n",
      "Epoch 20000/40000, loss: 0.63\n",
      "Epoch 24000/40000, loss: 0.47\n",
      "Epoch 28000/40000, loss: 0.40\n",
      "Epoch 32000/40000, loss: 0.37\n",
      "Epoch 36000/40000, loss: 0.35\n"
     ]
    },
    {
     "data": {
      "image/png": "[encoded data removed]",
      "text/plain": [
       "<Figure size 432x288 with 1 Axes>"
      ]
     },
     "metadata": {
      "needs_background": "light"
     },
     "output_type": "display_data"
    }
   ],
   "source": [
    "# Instantiate a network object from the Net class\n",
    "# The \".to(DEVICE)\" specifies the hardward system on \n",
    "# which the PINNs have to be optimized\n",
    "pinn_netdisc = NetDiscovery(1,1, loss2=physics_loss_discovery, loss2_weight=1, epochs=40000, lr=5e-6).to(DEVICE)\n",
    "\n",
    "# Optimize the PINNs\n",
    "losses = pinn_netdisc.optimize(time_samples, temperature_samples)\n",
    "\n",
    "# Display the evolution of the loss over the epoch \n",
    "# to check the good behavior of this phase, i.e., the loss must decrease\n",
    "plt.plot(losses)\n",
    "plt.yscale('log')"
   ]
  },
  {
   "cell_type": "markdown",
   "metadata": {},
   "source": [
    "## <span style=\"color:brown\"> 3.6) Run the PINNs after the optimization steps to predict the temperatures at the full range time vector\n",
    "    \n",
    "### <span style=\"color:red\"> Instruction: </span> Run the cell below to predict the temperatures at the full range time vector (outside the measured temperatures to validate the predictions of the PINNs)."
   ]
  },
  {
   "cell_type": "code",
   "execution_count": 31,
   "metadata": {
    "tags": []
   },
   "outputs": [
    {
     "name": "stdout",
     "output_type": "stream",
     "text": [
      "\n",
      "\n",
      "Decay value used in the cooling law function = 0.005\n",
      "Estimated decay value = [0.00528493] \n",
      "\n"
     ]
    },
    {
     "data": {
      "image/png": "[encoded data removed]",
      "text/plain": [
       "<Figure size 432x288 with 1 Axes>"
      ]
     },
     "metadata": {
      "needs_background": "light"
     },
     "output_type": "display_data"
    }
   ],
   "source": [
    "# Make the PINN predicts the temperature values from the full range time axis\n",
    "temperature_predictions_pinn_disc = pinn_netdisc.predict(times)\n",
    "\n",
    "# Display the predicted results\n",
    "plt.plot(times, temperatures, alpha=0.8)\n",
    "plt.plot(time_samples, temperature_samples, 'o')\n",
    "plt.plot(times, temperature_predictions_pinn, alpha=0.8)\n",
    "plt.plot(times, temperature_predictions_pinn_disc, alpha=0.8)\n",
    "plt.legend(labels=['Cooling law','Measured data', 'PINN', 'discovery PINN'])\n",
    "plt.ylabel('Temperature (C)')\n",
    "plt.xlabel('Time (s)')\n",
    "\n",
    "print(\"\\n\")\n",
    "print(f\"Decay value used in the cooling law function = {k}\")\n",
    "print(f\"Estimated decay value = {pinn_netdisc.k.detach().cpu().numpy()} \\n\")"
   ]
  },
  {
   "cell_type": "code",
   "execution_count": null,
   "metadata": {},
   "outputs": [],
   "source": []
  }
 ],
 "metadata": {
  "kernelspec": {
   "display_name": "Python [conda env:.conda-HJDL]",
   "language": "python",
   "name": "conda-env-.conda-HJDL-py"
  },
  "language_info": {
   "codemirror_mode": {
    "name": "ipython",
    "version": 3
   },
   "file_extension": ".py",
   "mimetype": "text/x-python",
   "name": "python",
   "nbconvert_exporter": "python",
   "pygments_lexer": "ipython3",
   "version": "3.10.4"
  }
 },
 "nbformat": 4,
 "nbformat_minor": 4
}
